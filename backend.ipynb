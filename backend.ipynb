{
 "cells": [
  {
   "cell_type": "code",
   "execution_count": 2,
   "metadata": {},
   "outputs": [],
   "source": [
    "from pymodbus.client.sync import ModbusTcpClient\n",
    "from concurrent.futures import ThreadPoolExecutor\n",
    "import csv\n",
    "import json\n",
    "import requests"
   ]
  },
  {
   "cell_type": "code",
   "execution_count": 78,
   "metadata": {},
   "outputs": [],
   "source": [
    "# Abrir el archivo CSV y leer las direcciones IP\n",
    "with open('ips.csv', 'r') as file:\n",
    "    reader = csv.reader(file)\n",
    "    ips = [row[0] for row in reader]"
   ]
  },
  {
   "cell_type": "code",
   "execution_count": 75,
   "metadata": {},
   "outputs": [],
   "source": [
    "# Función para leer los registros de un PLC\n",
    "def read_plc(plc_ip):\n",
    "    # Conexión al PLC\n",
    "    client = ModbusTcpClient(plc_ip, timeout=1)\n",
    "    # Lectura de los registros\n",
    "    if(client.connect()):\n",
    "        result = client.read_holding_registers(0, 1)\n",
    "        client.close()\n",
    "        # Crea un diccionario a partir del arreglo y las claves\n",
    "        jsonDic = dict(Device = plc_ip, Peso = result.registers[0])\n",
    "        # print(jsonDic)\n",
    "        json_string = json.dumps(jsonDic)\n",
    "        # Impresión de los registros\n",
    "        print(f\"{plc_ip}: {result.registers}\" + \" \" + json_string)\n",
    "        \n",
    "\n",
    "    else:\n",
    "        print(f\"{plc_ip}: SIN CONEXION\")\n",
    "\n"
   ]
  },
  {
   "cell_type": "code",
   "execution_count": 83,
   "metadata": {},
   "outputs": [
    {
     "name": "stdout",
     "output_type": "stream",
     "text": [
      "192.168.0.118: [104] {\"Device\": \"192.168.0.118\", \"Peso\": 104}\n",
      "localhost: [486] {\"Device\": \"localhost\", \"Peso\": 486}\n"
     ]
    }
   ],
   "source": [
    "hilos = 2\n",
    "# Creación de un ThreadPoolExecutor con hilos\n",
    "with ThreadPoolExecutor(max_workers=hilos) as executor:\n",
    "    # Llamada a la función read_plc para cada dirección IP\n",
    "    for plc_ip in ips:\n",
    "        executor.submit(read_plc, plc_ip)"
   ]
  }
 ],
 "metadata": {
  "kernelspec": {
   "display_name": "Python 3",
   "language": "python",
   "name": "python3"
  },
  "language_info": {
   "codemirror_mode": {
    "name": "ipython",
    "version": 3
   },
   "file_extension": ".py",
   "mimetype": "text/x-python",
   "name": "python",
   "nbconvert_exporter": "python",
   "pygments_lexer": "ipython3",
   "version": "3.10.11"
  }
 },
 "nbformat": 4,
 "nbformat_minor": 2
}
