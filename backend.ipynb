{
 "cells": [
  {
   "cell_type": "code",
   "execution_count": 1,
   "metadata": {},
   "outputs": [],
   "source": [
    "from pymodbus.client.sync import ModbusTcpClient\n",
    "from concurrent.futures import ThreadPoolExecutor\n",
    "import csv"
   ]
  },
  {
   "cell_type": "code",
   "execution_count": 2,
   "metadata": {},
   "outputs": [],
   "source": [
    "# Abrir el archivo CSV y leer las direcciones IP\n",
    "with open('ips.csv', 'r') as file:\n",
    "    reader = csv.reader(file)\n",
    "    ips = [row[0] for row in reader]"
   ]
  },
  {
   "cell_type": "code",
   "execution_count": 28,
   "metadata": {},
   "outputs": [],
   "source": [
    "# Función para leer los registros de un PLC\n",
    "def read_plc(plc_ip):\n",
    "    # Conexión al PLC\n",
    "    client = ModbusTcpClient(plc_ip, timeout=1)\n",
    "    # Lectura de los registros\n",
    "    #a = client.open()\n",
    "    #print(a)\n",
    "    result = client.read_holding_registers(0, 1)\n",
    "    \n",
    "    # Impresión de los registros\n",
    "    print(f\"{plc_ip}: {result.registers}\")\n",
    "\n",
    "    # Cierre de la conexión\n",
    "    client.close()"
   ]
  },
  {
   "cell_type": "code",
   "execution_count": 35,
   "metadata": {},
   "outputs": [],
   "source": [
    "hilos = 3\n",
    "# Creación de un ThreadPoolExecutor con 3 hilos\n",
    "with ThreadPoolExecutor(max_workers=hilos) as executor:\n",
    "    # Llamada a la función read_plc para cada dirección IP\n",
    "    for plc_ip in ips:\n",
    "        executor.submit(read_plc, plc_ip)"
   ]
  }
 ],
 "metadata": {
  "kernelspec": {
   "display_name": "Python 3",
   "language": "python",
   "name": "python3"
  },
  "language_info": {
   "codemirror_mode": {
    "name": "ipython",
    "version": 3
   },
   "file_extension": ".py",
   "mimetype": "text/x-python",
   "name": "python",
   "nbconvert_exporter": "python",
   "pygments_lexer": "ipython3",
   "version": "3.10.11"
  }
 },
 "nbformat": 4,
 "nbformat_minor": 2
}
